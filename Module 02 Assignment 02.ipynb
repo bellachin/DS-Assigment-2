{
 "cells": [
  {
   "cell_type": "markdown",
   "metadata": {},
   "source": [
    "# DS 3000 - Assignment 2\n",
    "\n",
    "**Student Name**: Bella Chin\n",
    "\n",
    "**Date**: 09/12/2024\n",
    "\n",
    "\n",
    "### Submission Instructions\n",
    "Submit this `ipynb` file to canvas.\n",
    "\n",
    "The `ipynb` format stores outputs from the last time you ran the notebook.  (When you open a notebook it has the figures and outputs of the last time you ran it too).  To ensure that your submitted `ipynb` file represents your latest code, make sure to give a fresh run `Kernel > Restart & Run All` just before uploading the `ipynb` file to Canvas.\n",
    "\n",
    "### Academic Integrity\n",
    "\n",
    "**Writing your homework is an individual effort.**  You may discuss general python problems with other students but under no circumstances should you observe another student's code which was written for this assignment, from this year or past years.  Pop into office hours or DM us in MS Teams if you have a specific question about your work or if you would like another pair of eyes or talk through your code.\n",
    "\n",
    "Don't forget to cite websites which helped you solve a problem in a unique way.  You can do this in markdown near the code or with a simple one-line comment. You do not need to cite the official python documentation.\n",
    "\n",
    "**Documentation / style counts for credit**  Please refer to the Pep-8 style, to improve the readability and consistency of your Python code. For more information, read the following article [How to Write Beautiful Python Code With PEP 8](https://realpython.com/python-pep8/) or ask your TA's for tips.\n",
    "\n",
    "**NOTE:<span style='color:red'> Write python expressions to answer ALL questions below and ensure that you use the `print()` function to display the output.</span>** Each question should be answered in a new code cell. For example, your solution for question 1.1 should be in a different code cell from your solution for question 1.2."
   ]
  },
  {
   "cell_type": "markdown",
   "metadata": {},
   "source": [
    "# Question 1: \n",
    "\n",
    "Load the attached data into a numpy array and display the dimensions of the data:"
   ]
  },
  {
   "cell_type": "code",
   "execution_count": 3,
   "metadata": {},
   "outputs": [],
   "source": [
    "#Write your python code to answer question 1. You can add new cells below as needed."
   ]
  },
  {
   "cell_type": "code",
   "execution_count": 5,
   "metadata": {
    "scrolled": true
   },
   "outputs": [
    {
     "name": "stdout",
     "output_type": "stream",
     "text": [
      "(189, 10)\n",
      "The dimensions of the data are 189 rows and 10 columns.\n"
     ]
    }
   ],
   "source": [
    "import numpy as np\n",
    "\n",
    "# Load the data from CSV file\n",
    "file_name = '/Users/snazzy/Desktop/DS3000/birthwt.csv'\n",
    "\n",
    "#Load data from CSV file with header\n",
    "data_with_header = np.genfromtxt(file_name, delimiter = ',', dtype = None, encoding = None)\n",
    "\n",
    "#Load data without header\n",
    "data = np.loadtxt(file_name, \n",
    "                  delimiter=',',\n",
    "                  skiprows=1, dtype = int) \n",
    "\n",
    "\n",
    "#Create header dictionary\n",
    "headers = data_with_header[0]\n",
    "header_dict = {header: index for index, header in enumerate(headers)} \n",
    "#used w3resource for how to convert numpy array to dictionary with indicies as keys\n",
    "dimensions = data.shape\n",
    "\n",
    "# Display the dimensions of the data.\n",
    "print(dimensions)\n",
    "print(\"The dimensions of the data are\", dimensions[0], \"rows and\", dimensions[1], \"columns.\")"
   ]
  },
  {
   "cell_type": "markdown",
   "metadata": {},
   "source": [
    "## Question 2: \n",
    "What is the age range of mothers in this dataset.\n",
    "Note: the range should include: the minimum, average and maximum age. Ensure that the ages are represented as whole numbers."
   ]
  },
  {
   "cell_type": "code",
   "execution_count": 11,
   "metadata": {},
   "outputs": [
    {
     "name": "stdout",
     "output_type": "stream",
     "text": [
      "Age column: [19 33 20 21 18 21 22 17 29 26 19 19 22 30 18 18 15 25 20 28 32 31 36 28\n",
      " 25 28 17 29 26 17 17 24 35 25 25 29 19 27 31 33 21 19 23 21 18 18 32 19\n",
      " 24 22 22 23 22 30 19 16 21 30 20 17 17 23 24 28 26 20 24 28 20 22 22 31\n",
      " 23 16 16 18 25 32 20 23 22 32 30 20 23 17 19 23 36 22 24 21 19 25 16 29\n",
      " 29 19 19 30 24 19 24 23 20 25 30 22 18 16 32 18 29 33 20 28 14 28 25 16\n",
      " 20 26 21 22 25 31 35 19 24 45 28 29 34 25 25 27 23 24 24 21 32 19 25 16\n",
      " 25 20 21 24 21 20 25 19 19 26 24 17 20 22 27 20 17 25 20 18 18 20 21 26\n",
      " 31 15 23 20 24 15 23 30 22 17 23 17 26 20 26 14 28 14 23 17 21]\n"
     ]
    }
   ],
   "source": [
    "# Get the index of the 'age' column using the header dictionary\n",
    "age_column_index = header_dict[\"age\"]\n",
    "\n",
    "# Extract the 'age' column from the data\n",
    "age_column = data[:, age_column_index]\n",
    "\n",
    "# Display the extracted age column\n",
    "print(\"Age column:\", age_column)\n"
   ]
  },
  {
   "cell_type": "code",
   "execution_count": 7,
   "metadata": {},
   "outputs": [
    {
     "name": "stdout",
     "output_type": "stream",
     "text": [
      "The minimum age of mothers in this dataset is 14 .The maximum age of mothers in this dataset is 45 .The average age of mothers in this dataset is 23 .\n"
     ]
    }
   ],
   "source": [
    "# Get the index the age is at\n",
    "age_index = header_dict['age']\n",
    "\n",
    "# Obtain the mother's ages\n",
    "mother_ages = data[:, age_index]\n",
    "\n",
    "#Find the min, max, and average of the ages\n",
    "min_mother_age = data[:, age_index].min()\n",
    "max_mother_age = data[:, age_index].max()\n",
    "avg_mother_age = int(data[:, age_index].mean())\n",
    "\n",
    "# Display the minimum, maximum, and average mother age.\n",
    "print(\"The minimum age of mothers in this dataset is\", min_mother_age, \n",
    "      \".The maximum age of mothers in this dataset is\", max_mother_age, \n",
    "      \".The average age of mothers in this dataset is\", avg_mother_age ,\".\")\n"
   ]
  },
  {
   "cell_type": "markdown",
   "metadata": {},
   "source": [
    "# Question 3:\n",
    "How many mothers smoked during pregnancy?"
   ]
  },
  {
   "cell_type": "code",
   "execution_count": 9,
   "metadata": {},
   "outputs": [
    {
     "name": "stdout",
     "output_type": "stream",
     "text": [
      "74 mothers have smoked during pregnancy.\n"
     ]
    }
   ],
   "source": [
    "# Get the index of smoke status from the header dictionary\n",
    "smoke_index = header_dict['smoke']\n",
    "\n",
    "# Get the status of mother's who smoked or did not smoke\n",
    "smoke_status = data[:, smoke_index]\n",
    "\n",
    "# Go through the smoke statuses and filter if mothers smoked\n",
    "count = 0\n",
    "for smoke in smoke_status:\n",
    "    if (smoke == 1):\n",
    "        count += 1\n",
    "        \n",
    "# Display output of mothers who smoked\n",
    "print(count, \"mothers have smoked during pregnancy.\")"
   ]
  },
  {
   "cell_type": "markdown",
   "metadata": {},
   "source": [
    "# Question 4:\n",
    "How many mothers had a history of hypertension?"
   ]
  },
  {
   "cell_type": "code",
   "execution_count": 11,
   "metadata": {},
   "outputs": [
    {
     "name": "stdout",
     "output_type": "stream",
     "text": [
      "12 mothers had a history of hypertension.\n"
     ]
    }
   ],
   "source": [
    "# Get the index of hypertension from the header dictionary\n",
    "hyp_index = header_dict['ht']\n",
    "\n",
    "# Get whether mothers have history of hypertension or do not have history of hypertension.\n",
    "hyp_hist = data[:, hyp_index]\n",
    "\n",
    "# Filter the mothers who have a history of hypertension.\n",
    "count = 0\n",
    "for hyp in hyp_hist:\n",
    "    if (hyp == 1):\n",
    "        count += 1\n",
    "\n",
    "# Display the motheres who have a history of hypertension.\n",
    "print(count, \"mothers had a history of hypertension.\")"
   ]
  },
  {
   "cell_type": "markdown",
   "metadata": {},
   "source": [
    "# Question 5:\n",
    "How many mothers have 1 or more premature births?"
   ]
  },
  {
   "cell_type": "code",
   "execution_count": 13,
   "metadata": {},
   "outputs": [
    {
     "name": "stdout",
     "output_type": "stream",
     "text": [
      "30 mothers had 1 or more premature births.\n"
     ]
    }
   ],
   "source": [
    "# Get the index of premature births from the header dictionary\n",
    "ptl_index = header_dict['ptl']\n",
    "\n",
    "# Get the number of premature births each mother had.\n",
    "ptl_num = data[:, ptl_index]\n",
    "\n",
    "# Filter the mothers who had one or more premature births\n",
    "count = 0\n",
    "for ptl in ptl_num:\n",
    "    if (ptl >= 1):\n",
    "        count += 1\n",
    "\n",
    "# Display the mothers who had 1 or more premature births\n",
    "print(count, \"mothers had 1 or more premature births.\")"
   ]
  },
  {
   "cell_type": "markdown",
   "metadata": {},
   "source": [
    "# Question 6:\n",
    "Create a function called convert_birthweight() that: 1) takes grams as input, 2) converts grams to pounds and ounces, and 3) return the converted value. Use the convert_birthweight() function to convert the birth weight to pounds and ounces in the questions 7-11 below."
   ]
  },
  {
   "cell_type": "code",
   "execution_count": 15,
   "metadata": {},
   "outputs": [],
   "source": [
    "# User defined function that helps convert the birth weight in grams into pounds and ounces\n",
    "def convert_birthweight(grams):\n",
    "    pounds = grams * 0.00220462\n",
    "    wholenum_pounds = int(pounds)\n",
    "    ounces = (pounds - wholenum_pounds) * 16\n",
    "    return wholenum_pounds, ounces\n",
    "    "
   ]
  },
  {
   "cell_type": "markdown",
   "metadata": {},
   "source": [
    "# Question 7:\n",
    "What is the average birth weight of babies whose mothers have a history of premature birth? "
   ]
  },
  {
   "cell_type": "code",
   "execution_count": 17,
   "metadata": {},
   "outputs": [
    {
     "name": "stdout",
     "output_type": "stream",
     "text": [
      "The average birth weight of babies whose mothers have a history of premature birth is 5 pounds and 10.99 ounces.\n"
     ]
    }
   ],
   "source": [
    "# Get the index of birth weight from the header dictionary\n",
    "bwt_index = header_dict['bwt']\n",
    "\n",
    "# Get the birtheight data using the index\n",
    "bwt_nums = data[:, bwt_index]\n",
    "\n",
    "# Find the indicies where mothers had premature birth\n",
    "indices = np.where(ptl_num >= 1)[0] #geeksforgeeks numpy where\n",
    "\n",
    "# Filter the data and get the birth weight of those who had premature births\n",
    "ptl_bwt = bwt_nums[indices]\n",
    "\n",
    "# Find the mean of the premature birth weights\n",
    "avg_ptl_bwt = ptl_bwt.mean()\n",
    "\n",
    "# Convert the birth weights into pounds and ounces.\n",
    "wholenum_pounds, ounces = convert_birthweight(avg_ptl_bwt)\n",
    "\n",
    "# Display the average birth weight in pounds and ounces.\n",
    "print(\"The average birth weight of babies whose mothers have a history of premature birth is\" ,\n",
    "      wholenum_pounds, \"pounds and\", round(ounces, 2), \"ounces.\")"
   ]
  },
  {
   "cell_type": "markdown",
   "metadata": {},
   "source": [
    "# Question 8:\n",
    "What is the minimum, average and maximum birth weight of babies whose mother did not smoke during pregnancy and do not have a history of hypertension?"
   ]
  },
  {
   "cell_type": "code",
   "execution_count": 19,
   "metadata": {},
   "outputs": [
    {
     "name": "stdout",
     "output_type": "stream",
     "text": [
      "The minimum birth weight of babies whose mother did not smoke during pregnancy and do not have a history of hypertension is 2 pounds and 4.01 ounces. The maximum birth weight is 11 pounds and 0.02 ounces.The average birth weight is 6 pounds and 13.01 ounces.\n"
     ]
    }
   ],
   "source": [
    "# Find the indices where mothers did not smoke and do not have a history of hypertension\n",
    "indices = np.where((smoke_status != 1) & (hyp_hist != 1))[0] \n",
    "#sparkbyexamples numpy where() multiple conditions\n",
    "\n",
    "# Get the data of those who did not smoke and do not have history of hypertension using indicies\n",
    "no_smk_ht = bwt_nums[indices]\n",
    "\n",
    "# Find min, max, and avg or the data\n",
    "min_no_smk_ht = no_smk_ht.min()\n",
    "max_no_smk_ht = no_smk_ht.max()\n",
    "avg_no_smk_ht = no_smk_ht.mean()\n",
    "\n",
    "# Convert the numbers into pounds and ounces\n",
    "min_pounds, min_ounces = convert_birthweight(min_no_smk_ht)\n",
    "max_pounds, max_ounces = convert_birthweight(max_no_smk_ht)\n",
    "avg_pounds, avg_ounces = convert_birthweight(avg_no_smk_ht)\n",
    "\n",
    "# Display the min, max, and avg of the birth weight of mothers who did not smoke and did not have history of hypertension\n",
    "print(\"The minimum birth weight of babies whose mother did not smoke during pregnancy and do not\",\n",
    "\"have a history of hypertension is\", min_pounds, \"pounds and\", round(min_ounces,2),\n",
    "      \"ounces. The maximum birth weight is\",\n",
    "     max_pounds, \"pounds and\", round(max_ounces,2), \"ounces.The average birth weight is\"\n",
    "      , avg_pounds, \"pounds and\", round(avg_ounces,2), \"ounces.\")"
   ]
  },
  {
   "cell_type": "markdown",
   "metadata": {},
   "source": [
    "# Question 9:\n",
    "What is the minimum, average and maximum birth weight of babies whose mothers smoked during pregnancy?"
   ]
  },
  {
   "cell_type": "code",
   "execution_count": 21,
   "metadata": {},
   "outputs": [
    {
     "name": "stdout",
     "output_type": "stream",
     "text": [
      "The minimum birth weight of babies whose mothers smoked during pregnancy is 1 pounds and 9.01 ounces. The maximum is birth weight of babies whose mothers smoked during pregnancy is 9 pounds and 5.49 ounces. The average is 6 pounds and 1.78 ounces.\n"
     ]
    }
   ],
   "source": [
    "# Get the indicies where mothers smoked\n",
    "indices = np.where((smoke_status == 1))[0]\n",
    "\n",
    "# Get the birth weight data of mothers who smoked\n",
    "smk_bwt = bwt_nums[indices]\n",
    "\n",
    "# Find the min, max, and avg of birth weight of mothers who smoked\n",
    "min_smk_bwt = smk_bwt.min()\n",
    "max_smk_bwt = smk_bwt.max()\n",
    "avg_smk_bwt = smk_bwt.mean()\n",
    "\n",
    "# Convert each to pounds and ounces by calling the function\n",
    "min_smk_pounds, min_smk_ounces = convert_birthweight(min_smk_bwt)\n",
    "max_smk_pounds, max_smk_ounces = convert_birthweight(max_smk_bwt)\n",
    "avg_smk_pounds, avg_smk_ounces = convert_birthweight(avg_smk_bwt)\n",
    "\n",
    "# Display the min, max, and avg birth weight of mothers who smoked\n",
    "print(\"The minimum birth weight of babies whose mothers smoked during pregnancy is\",\n",
    "      min_smk_pounds, \"pounds and\", round(min_smk_ounces, 2), \"ounces. The maximum is\",\n",
    "      \"birth weight of babies whose mothers smoked during pregnancy is\",\n",
    "      max_smk_pounds, \"pounds and\", round(max_smk_ounces, 2), \"ounces. The average is\",\n",
    "      avg_smk_pounds, \"pounds and\", round(avg_smk_ounces, 2), \"ounces.\")"
   ]
  },
  {
   "cell_type": "markdown",
   "metadata": {},
   "source": [
    "# Question 10: \n",
    "What is the minimum, average and maximum birth weight of babies whose mothers had a history of hypertension? "
   ]
  },
  {
   "cell_type": "code",
   "execution_count": 23,
   "metadata": {},
   "outputs": [
    {
     "name": "stdout",
     "output_type": "stream",
     "text": [
      "The minimum birth weight of babies whose mothers had a history of hyperension is 2 pounds and 8.04 ounces. The maximum birth weight of babies whose mothers had a history of hyperension is 8 pounds and 5.69 ounces. The average is 5 pounds and 9.48 ounces.\n"
     ]
    }
   ],
   "source": [
    "# Find the indices where mothers had a history of hypertension\n",
    "indices = np.where((hyp_hist == 1))[0]\n",
    "\n",
    "# Get the birth weight data of mothers who had hypertension\n",
    "hyp_bwt = bwt_nums[indices]\n",
    "\n",
    "# Find the min, max, and avg birth weight of mothers who had a history of hypertension\n",
    "min_hyp_bwt = hyp_bwt.min()\n",
    "max_hyp_bwt = hyp_bwt.max()\n",
    "avg_hyp_bwt = hyp_bwt.mean()\n",
    "\n",
    "# Convert the min, max, and avg birth weight of mothers who had a history of hypertension\n",
    "min_hyp_pounds, min_hyp_ounces = convert_birthweight(min_hyp_bwt)\n",
    "max_hyp_pounds, max_hyp_ounces = convert_birthweight(max_hyp_bwt)\n",
    "avg_hyp_pounds, avg_hyp_ounces = convert_birthweight(avg_hyp_bwt)\n",
    "\n",
    "# Display the min, max, and avg birth weight of motehrs who had a history of hypertension\n",
    "print(\"The minimum birth weight of babies whose mothers had a history of hyperension is\",\n",
    "      min_hyp_pounds, \"pounds and\", round(min_hyp_ounces, 2), \"ounces. The maximum\",\n",
    "      \"birth weight of babies whose mothers had a history of hyperension is\",\n",
    "      max_hyp_pounds, \"pounds and\", round(max_hyp_ounces, 2), \"ounces. The average is\",\n",
    "      avg_hyp_pounds, \"pounds and\", round(avg_hyp_ounces, 2), \"ounces.\")"
   ]
  },
  {
   "cell_type": "markdown",
   "metadata": {},
   "source": [
    "# Question 11:\n",
    "What is the minimum, average and maximum birth weight of babies whose mothers smoked during pregnancy and had a history of hypertension? "
   ]
  },
  {
   "cell_type": "code",
   "execution_count": 25,
   "metadata": {},
   "outputs": [
    {
     "name": "stdout",
     "output_type": "stream",
     "text": [
      "The minimum birth weight of babies whose mother smoked during pregnancy and had a history of hypertension is 2 pounds and 8.04 ounces. The maximum birth weight is 8 pounds and 4.49 ounces.The average birth weight is 5 pounds and 10.34 ounces.\n"
     ]
    }
   ],
   "source": [
    "# Find indicies where mothers smoked and had a history of hypertension\n",
    "indices = np.where((smoke_status == 1) & (hyp_hist == 1))[0] \n",
    "\n",
    "# Get birth weight data of mothers who smoked and had a history of hypertension\n",
    "smk_ht = bwt_nums[indices]\n",
    "\n",
    "# Get the min, max, and avg birth weight of mothers who smoked and had a history of hypertension\n",
    "min_smk_ht = smk_ht.min()\n",
    "max_smk_ht = smk_ht.max()\n",
    "avg_smk_ht = smk_ht.mean()\n",
    "\n",
    "# Convert the min, max, and avg birth weight into pounds and ounces by calling the function\n",
    "min_smk_ht_pounds, min_smk_ht_ounces = convert_birthweight(min_smk_ht)\n",
    "max_smk_ht_pounds, max_smk_ht_ounces = convert_birthweight(max_smk_ht)\n",
    "avg_smk_ht_pounds, avg_smk_ht_ounces = convert_birthweight(avg_smk_ht)\n",
    "\n",
    "# Display the min, max, and avg birth weight of mothers who smoked and had history of hypertension during pregnancy\n",
    "print(\"The minimum birth weight of babies whose mother smoked during pregnancy and had\",\n",
    "\"a history of hypertension is\", min_smk_ht_pounds, \"pounds and\", round(min_smk_ht_ounces,2),\n",
    "      \"ounces. The maximum birth weight is\",\n",
    "     max_smk_ht_pounds, \"pounds and\", round(max_smk_ht_ounces,2), \n",
    "      \"ounces.The average birth weight is\"\n",
    "      , avg_smk_ht_pounds, \"pounds and\", round(avg_smk_ht_ounces,2), \"ounces.\")"
   ]
  },
  {
   "cell_type": "markdown",
   "metadata": {},
   "source": [
    "# Question 12:\n",
    "Compare and contrast the results from 7-11 above and summarize your findings.\n",
    "Do you see any patterns in the birth weight of babies whose mother did not have any history of hypertension and/or did not smoke during pregnancy versus those who did? Ensure that you reference specific birth weights to support your explanation."
   ]
  },
  {
   "cell_type": "markdown",
   "metadata": {},
   "source": [
    "The average birth weight of babies whose mother did not smoke during pregnancy and did not have a history of hypertension is 6 pounds and 13.01 ounces. Comparatively, mothers who smoked had a average birth weight of 6 pounds and 1.78 ounces, mothers who had a history of hypertension had a average birth weight of 5 pounds and 9.48 ounces, and mothers who smoked and had a history of hypertension had a average birth weight of 5 pounds and 10.34 ounces. This displays that babies whose mothers smoked during pregnancy would have lower average birth weights compared to those who did not smoke. Additionally, the presence of hypertension both with and without smoking has a lower birth weight than those who did not smoke. This analysis reveals that both smoking and hypertension negatively impact birth weight."
   ]
  },
  {
   "cell_type": "markdown",
   "metadata": {},
   "source": [
    "## Helpful resources \n",
    "Don't forget to cite websites which helped you solve a problem in a unique way.  You can do this in markdown near the code or with a simple one-line comment inside the code cell, or you can list them below. \n",
    "\n",
    "You do not need to cite the official python documentation.\n"
   ]
  },
  {
   "cell_type": "code",
   "execution_count": null,
   "metadata": {},
   "outputs": [],
   "source": []
  }
 ],
 "metadata": {
  "kernelspec": {
   "display_name": "Python 3 (ipykernel)",
   "language": "python",
   "name": "python3"
  },
  "language_info": {
   "codemirror_mode": {
    "name": "ipython",
    "version": 3
   },
   "file_extension": ".py",
   "mimetype": "text/x-python",
   "name": "python",
   "nbconvert_exporter": "python",
   "pygments_lexer": "ipython3",
   "version": "3.12.4"
  }
 },
 "nbformat": 4,
 "nbformat_minor": 4
}
